{
 "cells": [
  {
   "cell_type": "code",
   "execution_count": 40,
   "metadata": {},
   "outputs": [],
   "source": [
    "\n",
    "from matplotlib import pyplot as plt\n",
    "import gdal\n",
    "from sklearn import cluster\n",
    "from skimage import exposure\n",
    "import numpy as np"
   ]
  },
  {
   "cell_type": "markdown",
   "metadata": {},
   "source": [
    "file_path = r'.\\data\\image\\crop_p224r63_all_bands_29192.tif'\n",
    "#img = gdal.Open(r'C:\\Users\\rss_prakti1\\multi-spectral_image_classification\\data\\image\\crop_p224r63_all_bands_29192.tif')\n",
    "#data = img.ReadAsArray()\n",
    "bands_data, n_bands, geo_transform, proj  = raster_to_npndarray(file_path, str_clip=2)\n",
    "img = np.dstack([img[:, :, 2], img[:, :, 1], img[:, :, 0]]) # bands_data\n",
    "data = img# .ReadAsArray()\n",
    "X = data.reshape((-1,1))"
   ]
  },
  {
   "cell_type": "markdown",
   "metadata": {},
   "source": [
    "k_means = cluster.KMeans(n_clusters=3)\n",
    "k_means.fit(X)\n",
    "X_cluster = k_means.labels_\n",
    "X_cluster = X_cluster.reshape(data.shape)"
   ]
  },
  {
   "cell_type": "markdown",
   "metadata": {},
   "source": [
    "fig, (ax1, ax2) = plt.subplots(1, 2)\n",
    "# rgb_img = np.dstack([img[:, :, 2], img[:, :, 1], img[:, :, 0]])\n",
    "# X_cluster_img = np.dstack([X_cluster[:, :, 3], X_cluster[:, :, 1], X_cluster[:, :, 0]])\n",
    "ax1.imshow(data)\n",
    "ax2.imshow(X_cluster, cmap=\"hsv\")"
   ]
  },
  {
   "cell_type": "markdown",
   "metadata": {},
   "source": [
    "img = gdal.Open(r'C:\\Users\\rss_prakti1\\multi-spectral_image_classification\\data\\image\\crop_p224r63_all_bands_29192.tif')\n",
    "data = img.ReadAsArray()\n",
    "x = np.array([1, 2, 3, -1, 5])"
   ]
  },
  {
   "cell_type": "code",
   "execution_count": 67,
   "metadata": {},
   "outputs": [],
   "source": [
    "import logging\n",
    "import os\n",
    "\n",
    "import xarray as xr\n",
    "import xgeo # Needs to be imported to use geo extension\n",
    "\n",
    "# from docopt import docopt\n",
    "from osgeo import gdal\n",
    "from sklearn import metrics\n",
    "import numpy as np\n",
    "import matplotlib.pyplot as plt\n",
    "from matplotlib.colors import ListedColormap\n",
    "from sklearn.model_selection import train_test_split\n",
    "from sklearn.preprocessing import StandardScaler\n",
    "from sklearn.datasets import make_moons, make_circles, make_classification\n",
    "from sklearn.neural_network import MLPClassifier\n",
    "from sklearn.neighbors import KNeighborsClassifier\n",
    "from sklearn.svm import SVC\n",
    "from sklearn.gaussian_process import GaussianProcessClassifier\n",
    "from sklearn.gaussian_process.kernels import RBF\n",
    "from sklearn.tree import DecisionTreeClassifier\n",
    "from sklearn.ensemble import RandomForestClassifier, AdaBoostClassifier\n",
    "from sklearn.naive_bayes import GaussianNB\n",
    "from sklearn.discriminant_analysis import QuadraticDiscriminantAnalysis\n",
    "\n",
    "from pathlib import Path\n",
    "\n",
    "\n",
    "\n",
    "\n",
    "logger = logging.getLogger(__name__)\n",
    "\n",
    "# A list of \"random\" colors\n",
    "COLORS = [\n",
    "    \"#000000\", \"#FFFF00\", \"#1CE6FF\", \"#FF34FF\", \"#FF4A46\", \"#008941\", \"#006FA6\", \"#A30059\",\n",
    "    \"#FFDBE5\", \"#7A4900\", \"#0000A6\", \"#63FFAC\", \"#B79762\", \"#004D43\", \"#8FB0FF\", \"#997D87\",\n",
    "    \"#5A0007\", \"#809693\", \"#FEFFE6\", \"#1B4400\", \"#4FC601\", \"#3B5DFF\", \"#4A3B53\", \"#FF2F80\",\n",
    "    \"#61615A\", \"#BA0900\", \"#6B7900\", \"#00C2A0\", \"#FFAA92\", \"#FF90C9\", \"#B903AA\", \"#D16100\",\n",
    "    \"#DDEFFF\", \"#000035\", \"#7B4F4B\", \"#A1C299\", \"#300018\", \"#0AA6D8\", \"#013349\", \"#00846F\",\n",
    "    \"#372101\", \"#FFB500\", \"#C2FFED\", \"#A079BF\", \"#CC0744\", \"#C0B9B2\", \"#C2FF99\", \"#001E09\",\n",
    "    \"#00489C\", \"#6F0062\", \"#0CBD66\", \"#EEC3FF\", \"#456D75\", \"#B77B68\", \"#7A87A1\", \"#788D66\",\n",
    "    \"#885578\", \"#FAD09F\", \"#FF8A9A\", \"#D157A0\", \"#BEC459\", \"#456648\", \"#0086ED\", \"#886F4C\",\n",
    "    \"#34362D\", \"#B4A8BD\", \"#00A6AA\", \"#452C2C\", \"#636375\", \"#A3C8C9\", \"#FF913F\", \"#938A81\",\n",
    "    \"#575329\", \"#00FECF\", \"#B05B6F\", \"#8CD0FF\", \"#3B9700\", \"#04F757\", \"#C8A1A1\", \"#1E6E00\",\n",
    "    \"#7900D7\", \"#A77500\", \"#6367A9\", \"#A05837\", \"#6B002C\", \"#772600\", \"#D790FF\", \"#9B9700\",\n",
    "    \"#549E79\", \"#FFF69F\", \"#201625\", \"#72418F\", \"#BC23FF\", \"#99ADC0\", \"#3A2465\", \"#922329\",\n",
    "    \"#5B4534\", \"#FDE8DC\", \"#404E55\", \"#0089A3\", \"#CB7E98\", \"#A4E804\", \"#324E72\", \"#6A3A4C\",\n",
    "    \"#83AB58\", \"#001C1E\", \"#D1F7CE\", \"#004B28\", \"#C8D0F6\", \"#A3A489\", \"#806C66\", \"#222800\",\n",
    "    \"#BF5650\", \"#E83000\", \"#66796D\", \"#DA007C\", \"#FF1A59\", \"#8ADBB4\", \"#1E0200\", \"#5B4E51\",\n",
    "    \"#C895C5\", \"#320033\", \"#FF6832\", \"#66E1D3\", \"#CFCDAC\", \"#D0AC94\", \"#7ED379\", \"#012C58\"\n",
    "]\n",
    "\n",
    "\n",
    "def create_mask_from_vector(vector_data_path, cols, rows, geo_transform, projection, target_value=1,\n",
    "                            output_fname='', dataset_format='MEM'):\n",
    "    \"\"\"\n",
    "    Rasterize the given vector (wrapper for gdal.RasterizeLayer). Return a gdal.Dataset.\n",
    "    :param vector_data_path: Path to a shapefile\n",
    "    :param cols: Number of columns of the result\n",
    "    :param rows: Number of rows of the result\n",
    "    :param geo_transform: Returned value of gdal.Dataset.GetGeoTransform (coefficients for\n",
    "                          transforming between pixel/line (P,L) raster space, and projection\n",
    "                          coordinates (Xp,Yp) space.\n",
    "    :param projection: Projection definition string (Returned by gdal.Dataset.GetProjectionRef)\n",
    "    :param target_value: Pixel value for the pixels. Must be a valid gdal.GDT_UInt16 value.\n",
    "    :param output_fname: If the dataset_format is GeoTIFF, this is the output file name\n",
    "    :param dataset_format: The gdal.Dataset driver name. [default: MEM]\n",
    "    \"\"\"\n",
    "    data_source = gdal.OpenEx(vector_data_path, gdal.OF_VECTOR)\n",
    "    if data_source is None:\n",
    "        report_and_exit(\"File read failed: %s\", vector_data_path)\n",
    "    layer = data_source.GetLayer(0)\n",
    "    driver = gdal.GetDriverByName(dataset_format)\n",
    "    target_ds = driver.Create(output_fname, cols, rows, 1, gdal.GDT_UInt16)\n",
    "    target_ds.SetGeoTransform(geo_transform)\n",
    "    target_ds.SetProjection(projection)\n",
    "    gdal.RasterizeLayer(target_ds, [1], layer, burn_values=[target_value])\n",
    "    return target_ds\n",
    "\n",
    "\n",
    "def vectors_to_raster(file_paths, rows, cols, geo_transform, projection):\n",
    "    \"\"\"\n",
    "    Rasterize, in a single image, all the vectors in the given directory.\n",
    "    The data of each file will be assigned the same pixel value. This value is defined by the order\n",
    "    of the file in file_paths, starting with 1: so the points/poligons/etc in the same file will be\n",
    "    marked as 1, those in the second file will be 2, and so on.\n",
    "    :param file_paths: Path to a directory with shapefiles\n",
    "    :param rows: Number of rows of the result\n",
    "    :param cols: Number of columns of the result\n",
    "    :param geo_transform: Returned value of gdal.Dataset.GetGeoTransform (coefficients for\n",
    "                          transforming between pixel/line (P,L) raster space, and projection\n",
    "                          coordinates (Xp,Yp) space.\n",
    "    :param projection: Projection definition string (Returned by gdal.Dataset.GetProjectionRef)\n",
    "    \"\"\"\n",
    "    labeled_pixels = np.zeros((rows, cols))\n",
    "    for i, path in enumerate(file_paths):\n",
    "        label = i+1\n",
    "        logger.debug(\"Processing file %s: label (pixel value) %i\", path, label)\n",
    "        ds = create_mask_from_vector(path, cols, rows, geo_transform, projection,\n",
    "                                     target_value=label)\n",
    "        band = ds.GetRasterBand(1)\n",
    "        a = band.ReadAsArray()\n",
    "        logger.debug(\"Labeled pixels: %i\", len(a.nonzero()[0]))\n",
    "        labeled_pixels += a\n",
    "        ds = None\n",
    "    return labeled_pixels\n",
    "\n",
    "\n",
    "def write_geotiff(fname, classes, data, geo_transform, projection, data_type=gdal.GDT_Byte):\n",
    "    \"\"\"\n",
    "    Create a GeoTIFF file with the given data.\n",
    "    :param fname: Path to a directory with shapefiles\n",
    "    :param data: Number of rows of the result\n",
    "    :param geo_transform: Returned value of gdal.Dataset.GetGeoTransform (coefficients for\n",
    "                          transforming between pixel/line (P,L) raster space, and projection\n",
    "                          coordinates (Xp,Yp) space.\n",
    "    :param projection: Projection definition string (Returned by gdal.Dataset.GetProjectionRef)\n",
    "    \"\"\"\n",
    "    driver = gdal.GetDriverByName('GTiff')\n",
    "    rows, cols = data.shape\n",
    "    dataset = driver.Create(fname, cols, rows, 1, data_type)\n",
    "    dataset.SetGeoTransform(geo_transform)\n",
    "    dataset.SetProjection(projection)\n",
    "    band = dataset.GetRasterBand(1)\n",
    "    # print(len(np.unique(data, return_inverse=True)))\n",
    "    band.WriteArray(data)\n",
    "\n",
    "    ct = gdal.ColorTable()\n",
    "    for pixel_value in range(len(classes)+1):\n",
    "        color_hex = COLORS[pixel_value]\n",
    "        r = int(color_hex[1:3], 16)\n",
    "        g = int(color_hex[3:5], 16)\n",
    "        b = int(color_hex[5:7], 16)\n",
    "        ct.SetColorEntry(pixel_value, (r, g, b, 255))\n",
    "    band.SetColorTable(ct)\n",
    "\n",
    "    metadata = {\n",
    "        'TIFFTAG_COPYRIGHT': 'CC BY 4.0',\n",
    "        'TIFFTAG_DOCUMENTNAME': 'classification',\n",
    "        'TIFFTAG_IMAGEDESCRIPTION': 'Supervised classification.',\n",
    "        'TIFFTAG_MAXSAMPLEVALUE': str(len(classes)),\n",
    "        'TIFFTAG_MINSAMPLEVALUE': '0',\n",
    "        'TIFFTAG_SOFTWARE': 'Python, GDAL, scikit-learn'\n",
    "    }\n",
    "    dataset.SetMetadata(metadata)\n",
    "\n",
    "    dataset = None  # Close the file\n",
    "    return\n",
    "\n",
    "\n",
    "def report_and_exit(txt, *args, **kwargs):\n",
    "    logger.error(txt, *args, **kwargs)\n",
    "    exit(1)\n",
    "    \n",
    "'''\n",
    "opts = docopt(__doc__)\n",
    "\n",
    "validation_data_path = opts['--validation'] if opts['--validation'] else None\n",
    "log_level = logging.DEBUG if opts[\"--verbose\"] else logging.INFO\n",
    "method = opts[\"--method\"]\n",
    "\n",
    "logging.basicConfig(level=log_level, format='%(asctime)-15s\\t %(message)s')\n",
    "gdal.UseExceptions()\n",
    "\n",
    "logger.debug(\"Reading the input: %s\", raster_data_path).\n",
    "'''\n",
    "def classic_classifier(method, raster_data_path, train_data_path, validation_data_path, output_fname):\n",
    "    try:\n",
    "        raster_dataset = gdal.Open(raster_data_path, gdal.GA_ReadOnly)\n",
    "    except RuntimeError as e:\n",
    "        report_and_exit(str(e))\n",
    "\n",
    "    geo_transform = raster_dataset.GetGeoTransform()\n",
    "    proj = raster_dataset.GetProjectionRef()\n",
    "    bands_data = []\n",
    "    for b in range(1, raster_dataset.RasterCount+1):\n",
    "        band = raster_dataset.GetRasterBand(b)\n",
    "        bands_data.append(band.ReadAsArray())\n",
    "\n",
    "    bands_data = np.dstack(bands_data)\n",
    "    rows, cols, n_bands = bands_data.shape\n",
    "    # A sample is a vector with all the bands data. Each pixel (independent of its position) is a\n",
    "    # sample.\n",
    "    n_samples = rows*cols\n",
    "\n",
    "    logger.debug(\"Process the training data\")\n",
    "    try:\n",
    "        files = [f for f in os.listdir(train_data_path) if f.endswith('.shp')]\n",
    "        # print(files)\n",
    "        classes = [f.split('.')[0] for f in files]\n",
    "        shapefiles = [os.path.join(train_data_path, f) for f in files if f.endswith('.shp')]\n",
    "    except OSError.FileNotFoundError as e:\n",
    "        report_and_exit(str(e))\n",
    "\n",
    "    labeled_pixels = vectors_to_raster(shapefiles, rows, cols, geo_transform, proj)\n",
    "    is_train = np.nonzero(labeled_pixels)\n",
    "    training_labels = labeled_pixels[is_train]\n",
    "    training_samples = bands_data[is_train]\n",
    "\n",
    "    flat_pixels = bands_data.reshape((n_samples, n_bands))\n",
    "\n",
    "    #\n",
    "    # Perform classification\n",
    "    #\n",
    "    CLASSIFIERS = {\n",
    "        # http://scikit-learn.org/dev/modules/generated/sklearn.ensemble.RandomForestClassifier.html\n",
    "        'random-forest': RandomForestClassifier(n_jobs=4, n_estimators=10, class_weight='balanced'),\n",
    "        # http://scikit-learn.org/stable/modules/generated/sklearn.svm.SVC.html\n",
    "        'svm': SVC(class_weight='balanced'),\n",
    "        'linear-svm': SVC(kernel=\"linear\", C=0.025),\n",
    "        'svm-gamma': SVC(gamma=2, C=1),\n",
    "        'nearest-neighbors': KNeighborsClassifier(3),\n",
    "        'Gaussian-Process': GaussianProcessClassifier(1.0 * RBF(1.0)),\n",
    "        'Decision-Tree': DecisionTreeClassifier(max_depth=5),\n",
    "        'random-forest-1feature': RandomForestClassifier(max_depth=5, n_estimators=10, max_features=1),\n",
    "        'Neural-Net': MLPClassifier(alpha=1, max_iter=1000),\n",
    "        'AdaBoost': AdaBoostClassifier(),\n",
    "        'Naive-Bayes': GaussianNB(),\n",
    "        'Quad-Discr': QuadraticDiscriminantAnalysis()\n",
    "    }\n",
    "\n",
    "    classifier = CLASSIFIERS[method]\n",
    "    logger.debug(\"Train the classifier: %s\", str(classifier))\n",
    "    classifier.fit(training_samples, training_labels)\n",
    "\n",
    "    logger.debug(\"Classifing...\")\n",
    "    result = classifier.predict(flat_pixels)\n",
    "\n",
    "    # Reshape the result: split the labeled pixels into rows to create an image\n",
    "    classification = result.reshape((rows, cols))\n",
    "    write_geotiff(output_fname, classes, classification, geo_transform, proj)\n",
    "    logger.info(\"Classification created: %s\", output_fname)\n",
    "\n",
    "    #\n",
    "    # Validate the results\n",
    "    #\n",
    "    if validation_data_path:\n",
    "        logger.debug(\"Process the verification (testing) data\")\n",
    "        try:\n",
    "            shapefiles = [os.path.join(validation_data_path, \"%s.shp\" % c) for c in classes]\n",
    "        except OSError.FileNotFoundError as e:\n",
    "            report_and_exit(str(e))\n",
    "\n",
    "        verification_pixels = vectors_to_raster(shapefiles, rows, cols, geo_transform, proj)\n",
    "        for_verification = np.nonzero(verification_pixels)\n",
    "        verification_labels = verification_pixels[for_verification]\n",
    "        predicted_labels = classification[for_verification]\n",
    "\n",
    "        logger.info(\"Confussion matrix:\\n%s\", str(\n",
    "            metrics.confusion_matrix(verification_labels, predicted_labels)))\n",
    "        target_names = ['Class %s' % s for s in classes]\n",
    "        logger.info(\"Classification report:\\n%s\",\n",
    "                    metrics.classification_report(verification_labels, predicted_labels,\n",
    "                                                  target_names=target_names))\n",
    "        logger.info(\"Classification accuracy: %f\",\n",
    "                    metrics.accuracy_score(verification_labels, predicted_labels))\n",
    "        return verification_labels, predicted_labels\n"
   ]
  },
  {
   "cell_type": "code",
   "execution_count": null,
   "metadata": {},
   "outputs": [],
   "source": []
  },
  {
   "cell_type": "code",
   "execution_count": 92,
   "metadata": {},
   "outputs": [
    {
     "name": "stdout",
     "output_type": "stream",
     "text": [
      "/home/jovyan/shared/Islam/rss_general_classifier/rss_general_classifier\n"
     ]
    }
   ],
   "source": [
    "# BASE_DIR = Path(__file__).resolve().parent.parent\n",
    "BASE_DIR = Path().resolve()\n",
    "Prj_Path = BASE_DIR.joinpath('./')# os.path.join(Shared, './rss_general_classifier/rss_general_classifier')\n",
    "print(Prj_Path)"
   ]
  },
  {
   "cell_type": "code",
   "execution_count": 93,
   "metadata": {},
   "outputs": [],
   "source": [
    "# Prj_Path = os.chdir(os.path.join(Shared, './rss_general_classifier/rss_general_classifier')\n",
    "file_path = Prj_Path.joinpath('./data/image/crop_p224r63_all_bands_29192.tif')\n",
    "raster_data_path = Prj_Path.joinpath(\"./data/image/crop_p224r63_all_bands_29192.tif\")\n",
    "train_data_path = Prj_Path.joinpath('./data/test/classes')\n",
    "output_fname = Prj_Path.joinpath('./data/image/crop_p224r63_all_bands_29192.tif')\n",
    "method = 'random-forest'\n",
    "validation_data_path = Prj_Path.joinpath('./data/train/classes')\n",
    "\n",
    "classifier_names = [\n",
    "    'random-forest',\n",
    "    'svm',\n",
    "    'linear-svm',\n",
    "    'svm-gamma' ,\n",
    "    'nearest-neighbors' ,\n",
    "    #'Gaussian-Process' ,\n",
    "    'Decision-Tree',\n",
    "    'random-forest-1feature',\n",
    "    'Neural-Net',\n",
    "    'AdaBoost',\n",
    "    'Naive-Bayes' ,\n",
    "    'Quad-Discr'\n",
    "]\n",
    "\n",
    "classifier_names = [\n",
    "    # http://scikit-learn.org/dev/modules/generated/sklearn.ensemble.RandomForestClassifier.html\n",
    "    'random-forest',\n",
    "    # http://scikit-learn.org/stable/modules/generated/sklearn.svm.SVC.html\n",
    "    'svm',\n",
    "    'cart'\n",
    "]"
   ]
  },
  {
   "cell_type": "code",
   "execution_count": 94,
   "metadata": {},
   "outputs": [
    {
     "name": "stdout",
     "output_type": "stream",
     "text": [
      "/home/jovyan/shared/Islam/rss_general_classifier/rss_general_classifier/data/image/crop_p224r63_all_bands_29192.tif\n"
     ]
    }
   ],
   "source": [
    "raster_data_path = Prj_Path.joinpath('./data/image/crop_p224r63_all_bands_29192.tif') # os.path.join(Prj_Path, file_path)\n",
    "print(raster_data_path)"
   ]
  },
  {
   "cell_type": "code",
   "execution_count": 99,
   "metadata": {},
   "outputs": [
    {
     "name": "stdout",
     "output_type": "stream",
     "text": [
      "<xarray.DataArray (band: 5, y: 1170, x: 2212)>\n",
      "[12940200 values with dtype=float32]\n",
      "Coordinates:\n",
      "  * band     (band) int64 1 2 3 4 5\n",
      "  * y        (y) float64 9.562e+06 9.562e+06 9.562e+06 ... 9.529e+06 9.529e+06\n",
      "  * x        (x) float64 5.942e+05 5.942e+05 5.943e+05 ... 6.572e+05 6.572e+05\n",
      "Attributes:\n",
      "    transform:   (28.49991227626653, 0.0, 594202.6568389062, 0.0, -28.4999122...\n",
      "    crs:         +init=epsg:29192\n",
      "    res:         (28.49991227626653, 28.49991227626653)\n",
      "    is_tiled:    0\n",
      "    nodatavals:  (-3.4e+38, -3.4e+38, -3.4e+38, -3.4e+38, -3.4e+38)\n",
      "/home/jovyan/shared/Islam/rss_general_classifier/rss_general_classifier/data/train/train_data_29192.shp\n"
     ]
    },
    {
     "ename": "CRSError",
     "evalue": "Invalid projection: +init=epsg:29192 +type=crs: (Internal Proj Error: proj_create: cannot expand +init=epsg:29192 +type=crs)",
     "output_type": "error",
     "traceback": [
      "\u001b[0;31m---------------------------------------------------------------------------\u001b[0m",
      "\u001b[0;31mCRSError\u001b[0m                                  Traceback (most recent call last)",
      "\u001b[0;32m<ipython-input-99-dbd70ee575ec>\u001b[0m in \u001b[0;36m<module>\u001b[0;34m\u001b[0m\n\u001b[1;32m      6\u001b[0m \u001b[0mtrain_data_file\u001b[0m \u001b[0;34m=\u001b[0m \u001b[0mPrj_Path\u001b[0m\u001b[0;34m.\u001b[0m\u001b[0mjoinpath\u001b[0m\u001b[0;34m(\u001b[0m\u001b[0;34m'./data/train/train_data_29192.shp'\u001b[0m\u001b[0;34m)\u001b[0m\u001b[0;34m\u001b[0m\u001b[0;34m\u001b[0m\u001b[0m\n\u001b[1;32m      7\u001b[0m \u001b[0mprint\u001b[0m\u001b[0;34m(\u001b[0m\u001b[0mtrain_data_file\u001b[0m\u001b[0;34m)\u001b[0m\u001b[0;34m\u001b[0m\u001b[0;34m\u001b[0m\u001b[0m\n\u001b[0;32m----> 8\u001b[0;31m \u001b[0mdset\u001b[0m\u001b[0;34m.\u001b[0m\u001b[0mgeo\u001b[0m\u001b[0;34m.\u001b[0m\u001b[0msample\u001b[0m\u001b[0;34m(\u001b[0m\u001b[0mvector_file\u001b[0m\u001b[0;34m=\u001b[0m\u001b[0mstr\u001b[0m\u001b[0;34m(\u001b[0m\u001b[0mtrain_data_file\u001b[0m\u001b[0;34m)\u001b[0m\u001b[0;34m,\u001b[0m \u001b[0mvalue_name\u001b[0m\u001b[0;34m=\u001b[0m\u001b[0;34m'id'\u001b[0m\u001b[0;34m)\u001b[0m\u001b[0;34m\u001b[0m\u001b[0;34m\u001b[0m\u001b[0m\n\u001b[0m",
      "\u001b[0;32m/opt/conda/lib/python3.7/site-packages/xgeo/raster.py\u001b[0m in \u001b[0;36msample\u001b[0;34m(self, vector_file, geometry_name, value_name)\u001b[0m\n\u001b[1;32m    767\u001b[0m \u001b[0;34m\u001b[0m\u001b[0m\n\u001b[1;32m    768\u001b[0m         \u001b[0;31m# Get geopandas.GeoDataFrame object for given vector file\u001b[0m\u001b[0;34m\u001b[0m\u001b[0;34m\u001b[0m\u001b[0;34m\u001b[0m\u001b[0m\n\u001b[0;32m--> 769\u001b[0;31m         \u001b[0mvf\u001b[0m \u001b[0;34m=\u001b[0m \u001b[0mself\u001b[0m\u001b[0;34m.\u001b[0m\u001b[0m__get_geodataframe\u001b[0m\u001b[0;34m(\u001b[0m\u001b[0mvector_file\u001b[0m\u001b[0;34m=\u001b[0m\u001b[0mvector_file\u001b[0m\u001b[0;34m,\u001b[0m \u001b[0mgeometry_name\u001b[0m\u001b[0;34m=\u001b[0m\u001b[0mgeometry_name\u001b[0m\u001b[0;34m)\u001b[0m\u001b[0;34m\u001b[0m\u001b[0;34m\u001b[0m\u001b[0m\n\u001b[0m\u001b[1;32m    770\u001b[0m \u001b[0;34m\u001b[0m\u001b[0m\n\u001b[1;32m    771\u001b[0m         \u001b[0;31m# Add mask to the Dataset matching the regions in the vector file\u001b[0m\u001b[0;34m\u001b[0m\u001b[0;34m\u001b[0m\u001b[0;34m\u001b[0m\u001b[0m\n",
      "\u001b[0;32m/opt/conda/lib/python3.7/site-packages/xgeo/raster.py\u001b[0m in \u001b[0;36m__get_geodataframe\u001b[0;34m(self, vector_file, geometry_name)\u001b[0m\n\u001b[1;32m    721\u001b[0m         \u001b[0;31m# If the projection system exists. Reproject the vector to the projection system of the data.\u001b[0m\u001b[0;34m\u001b[0m\u001b[0;34m\u001b[0m\u001b[0;34m\u001b[0m\u001b[0m\n\u001b[1;32m    722\u001b[0m         \u001b[0;32mif\u001b[0m \u001b[0mself\u001b[0m\u001b[0;34m.\u001b[0m\u001b[0mprojection\u001b[0m\u001b[0;34m:\u001b[0m\u001b[0;34m\u001b[0m\u001b[0;34m\u001b[0m\u001b[0m\n\u001b[0;32m--> 723\u001b[0;31m             \u001b[0mvf\u001b[0m \u001b[0;34m=\u001b[0m \u001b[0mvf\u001b[0m\u001b[0;34m.\u001b[0m\u001b[0mto_crs\u001b[0m\u001b[0;34m(\u001b[0m\u001b[0mXCRS\u001b[0m\u001b[0;34m.\u001b[0m\u001b[0mfrom_any\u001b[0m\u001b[0;34m(\u001b[0m\u001b[0mself\u001b[0m\u001b[0;34m.\u001b[0m\u001b[0mprojection\u001b[0m\u001b[0;34m)\u001b[0m\u001b[0;34m.\u001b[0m\u001b[0mto_dict\u001b[0m\u001b[0;34m(\u001b[0m\u001b[0;34m)\u001b[0m\u001b[0;34m)\u001b[0m\u001b[0;34m\u001b[0m\u001b[0;34m\u001b[0m\u001b[0m\n\u001b[0m\u001b[1;32m    724\u001b[0m \u001b[0;34m\u001b[0m\u001b[0m\n\u001b[1;32m    725\u001b[0m         \u001b[0;31m# Validate that the vector file isn't empty and at least one of the geometries in the vector file is\u001b[0m\u001b[0;34m\u001b[0m\u001b[0;34m\u001b[0m\u001b[0;34m\u001b[0m\u001b[0m\n",
      "\u001b[0;32m/opt/conda/lib/python3.7/site-packages/geopandas/geodataframe.py\u001b[0m in \u001b[0;36mto_crs\u001b[0;34m(self, crs, epsg, inplace)\u001b[0m\n\u001b[1;32m    457\u001b[0m         \u001b[0;32melse\u001b[0m\u001b[0;34m:\u001b[0m\u001b[0;34m\u001b[0m\u001b[0;34m\u001b[0m\u001b[0m\n\u001b[1;32m    458\u001b[0m             \u001b[0mdf\u001b[0m \u001b[0;34m=\u001b[0m \u001b[0mself\u001b[0m\u001b[0;34m.\u001b[0m\u001b[0mcopy\u001b[0m\u001b[0;34m(\u001b[0m\u001b[0;34m)\u001b[0m\u001b[0;34m\u001b[0m\u001b[0;34m\u001b[0m\u001b[0m\n\u001b[0;32m--> 459\u001b[0;31m         \u001b[0mgeom\u001b[0m \u001b[0;34m=\u001b[0m \u001b[0mdf\u001b[0m\u001b[0;34m.\u001b[0m\u001b[0mgeometry\u001b[0m\u001b[0;34m.\u001b[0m\u001b[0mto_crs\u001b[0m\u001b[0;34m(\u001b[0m\u001b[0mcrs\u001b[0m\u001b[0;34m=\u001b[0m\u001b[0mcrs\u001b[0m\u001b[0;34m,\u001b[0m \u001b[0mepsg\u001b[0m\u001b[0;34m=\u001b[0m\u001b[0mepsg\u001b[0m\u001b[0;34m)\u001b[0m\u001b[0;34m\u001b[0m\u001b[0;34m\u001b[0m\u001b[0m\n\u001b[0m\u001b[1;32m    460\u001b[0m         \u001b[0mdf\u001b[0m\u001b[0;34m.\u001b[0m\u001b[0mgeometry\u001b[0m \u001b[0;34m=\u001b[0m \u001b[0mgeom\u001b[0m\u001b[0;34m\u001b[0m\u001b[0;34m\u001b[0m\u001b[0m\n\u001b[1;32m    461\u001b[0m         \u001b[0mdf\u001b[0m\u001b[0;34m.\u001b[0m\u001b[0mcrs\u001b[0m \u001b[0;34m=\u001b[0m \u001b[0mgeom\u001b[0m\u001b[0;34m.\u001b[0m\u001b[0mcrs\u001b[0m\u001b[0;34m\u001b[0m\u001b[0;34m\u001b[0m\u001b[0m\n",
      "\u001b[0;32m/opt/conda/lib/python3.7/site-packages/geopandas/geoseries.py\u001b[0m in \u001b[0;36mto_crs\u001b[0;34m(self, crs, epsg)\u001b[0m\n\u001b[1;32m    302\u001b[0m             \u001b[0;32mexcept\u001b[0m \u001b[0mTypeError\u001b[0m\u001b[0;34m:\u001b[0m\u001b[0;34m\u001b[0m\u001b[0;34m\u001b[0m\u001b[0m\n\u001b[1;32m    303\u001b[0m                 \u001b[0;32mraise\u001b[0m \u001b[0mTypeError\u001b[0m\u001b[0;34m(\u001b[0m\u001b[0;34m'Must set either crs or epsg for output.'\u001b[0m\u001b[0;34m)\u001b[0m\u001b[0;34m\u001b[0m\u001b[0;34m\u001b[0m\u001b[0m\n\u001b[0;32m--> 304\u001b[0;31m         \u001b[0mproj_in\u001b[0m \u001b[0;34m=\u001b[0m \u001b[0mpyproj\u001b[0m\u001b[0;34m.\u001b[0m\u001b[0mProj\u001b[0m\u001b[0;34m(\u001b[0m\u001b[0mself\u001b[0m\u001b[0;34m.\u001b[0m\u001b[0mcrs\u001b[0m\u001b[0;34m,\u001b[0m \u001b[0mpreserve_units\u001b[0m\u001b[0;34m=\u001b[0m\u001b[0;32mTrue\u001b[0m\u001b[0;34m)\u001b[0m\u001b[0;34m\u001b[0m\u001b[0;34m\u001b[0m\u001b[0m\n\u001b[0m\u001b[1;32m    305\u001b[0m         \u001b[0mproj_out\u001b[0m \u001b[0;34m=\u001b[0m \u001b[0mpyproj\u001b[0m\u001b[0;34m.\u001b[0m\u001b[0mProj\u001b[0m\u001b[0;34m(\u001b[0m\u001b[0mcrs\u001b[0m\u001b[0;34m,\u001b[0m \u001b[0mpreserve_units\u001b[0m\u001b[0;34m=\u001b[0m\u001b[0;32mTrue\u001b[0m\u001b[0;34m)\u001b[0m\u001b[0;34m\u001b[0m\u001b[0;34m\u001b[0m\u001b[0m\n\u001b[1;32m    306\u001b[0m         \u001b[0;32mif\u001b[0m \u001b[0m_PYPROJ2\u001b[0m\u001b[0;34m:\u001b[0m\u001b[0;34m\u001b[0m\u001b[0;34m\u001b[0m\u001b[0m\n",
      "\u001b[0;32m/opt/conda/lib/python3.7/site-packages/pyproj/proj.py\u001b[0m in \u001b[0;36m__init__\u001b[0;34m(self, projparams, preserve_units, **kwargs)\u001b[0m\n\u001b[1;32m    293\u001b[0m         \u001b[0;34m'116.366 39.867'\u001b[0m\u001b[0;34m\u001b[0m\u001b[0;34m\u001b[0m\u001b[0m\n\u001b[1;32m    294\u001b[0m         \"\"\"\n\u001b[0;32m--> 295\u001b[0;31m         \u001b[0mself\u001b[0m\u001b[0;34m.\u001b[0m\u001b[0mcrs\u001b[0m \u001b[0;34m=\u001b[0m \u001b[0mCRS\u001b[0m\u001b[0;34m.\u001b[0m\u001b[0mfrom_user_input\u001b[0m\u001b[0;34m(\u001b[0m\u001b[0mprojparams\u001b[0m \u001b[0;32mif\u001b[0m \u001b[0mprojparams\u001b[0m \u001b[0;32mis\u001b[0m \u001b[0;32mnot\u001b[0m \u001b[0;32mNone\u001b[0m \u001b[0;32melse\u001b[0m \u001b[0mkwargs\u001b[0m\u001b[0;34m)\u001b[0m\u001b[0;34m\u001b[0m\u001b[0;34m\u001b[0m\u001b[0m\n\u001b[0m\u001b[1;32m    296\u001b[0m         \u001b[0;31m# make sure units are meters if preserve_units is False.\u001b[0m\u001b[0;34m\u001b[0m\u001b[0;34m\u001b[0m\u001b[0;34m\u001b[0m\u001b[0m\n\u001b[1;32m    297\u001b[0m         \u001b[0;32mif\u001b[0m \u001b[0;32mnot\u001b[0m \u001b[0mpreserve_units\u001b[0m \u001b[0;32mand\u001b[0m \u001b[0;34m\"foot\"\u001b[0m \u001b[0;32min\u001b[0m \u001b[0mself\u001b[0m\u001b[0;34m.\u001b[0m\u001b[0mcrs\u001b[0m\u001b[0;34m.\u001b[0m\u001b[0maxis_info\u001b[0m\u001b[0;34m[\u001b[0m\u001b[0;36m0\u001b[0m\u001b[0;34m]\u001b[0m\u001b[0;34m.\u001b[0m\u001b[0munit_name\u001b[0m\u001b[0;34m:\u001b[0m\u001b[0;34m\u001b[0m\u001b[0;34m\u001b[0m\u001b[0m\n",
      "\u001b[0;32m/opt/conda/lib/python3.7/site-packages/pyproj/crs.py\u001b[0m in \u001b[0;36mfrom_user_input\u001b[0;34m(cls, value)\u001b[0m\n\u001b[1;32m    222\u001b[0m             \u001b[0;32mreturn\u001b[0m \u001b[0mcls\u001b[0m\u001b[0;34m.\u001b[0m\u001b[0mfrom_epsg\u001b[0m\u001b[0;34m(\u001b[0m\u001b[0mvalue\u001b[0m\u001b[0;34m)\u001b[0m\u001b[0;34m\u001b[0m\u001b[0;34m\u001b[0m\u001b[0m\n\u001b[1;32m    223\u001b[0m         \u001b[0;32melif\u001b[0m \u001b[0misinstance\u001b[0m\u001b[0;34m(\u001b[0m\u001b[0mvalue\u001b[0m\u001b[0;34m,\u001b[0m \u001b[0mdict\u001b[0m\u001b[0;34m)\u001b[0m\u001b[0;34m:\u001b[0m\u001b[0;34m\u001b[0m\u001b[0;34m\u001b[0m\u001b[0m\n\u001b[0;32m--> 224\u001b[0;31m             \u001b[0;32mreturn\u001b[0m \u001b[0mcls\u001b[0m\u001b[0;34m(\u001b[0m\u001b[0;34m**\u001b[0m\u001b[0mvalue\u001b[0m\u001b[0;34m)\u001b[0m\u001b[0;34m\u001b[0m\u001b[0;34m\u001b[0m\u001b[0m\n\u001b[0m\u001b[1;32m    225\u001b[0m         \u001b[0;32melif\u001b[0m \u001b[0misinstance\u001b[0m\u001b[0;34m(\u001b[0m\u001b[0mvalue\u001b[0m\u001b[0;34m,\u001b[0m \u001b[0mstring_types\u001b[0m\u001b[0;34m)\u001b[0m\u001b[0;34m:\u001b[0m\u001b[0;34m\u001b[0m\u001b[0;34m\u001b[0m\u001b[0m\n\u001b[1;32m    226\u001b[0m             \u001b[0;32mreturn\u001b[0m \u001b[0mcls\u001b[0m\u001b[0;34m.\u001b[0m\u001b[0mfrom_string\u001b[0m\u001b[0;34m(\u001b[0m\u001b[0mvalue\u001b[0m\u001b[0;34m)\u001b[0m\u001b[0;34m\u001b[0m\u001b[0;34m\u001b[0m\u001b[0m\n",
      "\u001b[0;32m/opt/conda/lib/python3.7/site-packages/pyproj/crs.py\u001b[0m in \u001b[0;36m__init__\u001b[0;34m(self, projparams, **kwargs)\u001b[0m\n\u001b[1;32m    144\u001b[0m         \u001b[0;31m# on case-insensitive filesystems).\u001b[0m\u001b[0;34m\u001b[0m\u001b[0;34m\u001b[0m\u001b[0;34m\u001b[0m\u001b[0m\n\u001b[1;32m    145\u001b[0m         \u001b[0mprojstring\u001b[0m \u001b[0;34m=\u001b[0m \u001b[0mprojstring\u001b[0m\u001b[0;34m.\u001b[0m\u001b[0mreplace\u001b[0m\u001b[0;34m(\u001b[0m\u001b[0;34m\"+init=EPSG\"\u001b[0m\u001b[0;34m,\u001b[0m \u001b[0;34m\"+init=epsg\"\u001b[0m\u001b[0;34m)\u001b[0m\u001b[0;34m.\u001b[0m\u001b[0mstrip\u001b[0m\u001b[0;34m(\u001b[0m\u001b[0;34m)\u001b[0m\u001b[0;34m\u001b[0m\u001b[0;34m\u001b[0m\u001b[0m\n\u001b[0;32m--> 146\u001b[0;31m         \u001b[0msuper\u001b[0m\u001b[0;34m(\u001b[0m\u001b[0mCRS\u001b[0m\u001b[0;34m,\u001b[0m \u001b[0mself\u001b[0m\u001b[0;34m)\u001b[0m\u001b[0;34m.\u001b[0m\u001b[0m__init__\u001b[0m\u001b[0;34m(\u001b[0m\u001b[0mprojstring\u001b[0m\u001b[0;34m)\u001b[0m\u001b[0;34m\u001b[0m\u001b[0;34m\u001b[0m\u001b[0m\n\u001b[0m\u001b[1;32m    147\u001b[0m \u001b[0;34m\u001b[0m\u001b[0m\n\u001b[1;32m    148\u001b[0m     \u001b[0;34m@\u001b[0m\u001b[0mclassmethod\u001b[0m\u001b[0;34m\u001b[0m\u001b[0;34m\u001b[0m\u001b[0m\n",
      "\u001b[0;32mpyproj/_crs.pyx\u001b[0m in \u001b[0;36mpyproj._crs._CRS.__init__\u001b[0;34m()\u001b[0m\n",
      "\u001b[0;31mCRSError\u001b[0m: Invalid projection: +init=epsg:29192 +type=crs: (Internal Proj Error: proj_create: cannot expand +init=epsg:29192 +type=crs)"
     ]
    }
   ],
   "source": [
    "ds = xr.open_rasterio(raster_data_path)\n",
    "dset= ds.to_dataset(name='image')\n",
    "print(ds)\n",
    "dset.geo.stats()\n",
    "\n",
    "train_data_file = Prj_Path.joinpath('./data/train/train_data_29192.shp')\n",
    "print(train_data_file)\n",
    "dset.geo.sample(vector_file=str(train_data_file), value_name='id')\n"
   ]
  },
  {
   "cell_type": "code",
   "execution_count": 96,
   "metadata": {},
   "outputs": [
    {
     "ename": "DriverError",
     "evalue": "/home/jovyan/shared/Islam/rss_general_classifier/rss_general_classifier/./data/train/classes/train_data_29192.shp: No such file or directory",
     "output_type": "error",
     "traceback": [
      "\u001b[0;31m---------------------------------------------------------------------------\u001b[0m",
      "\u001b[0;31mCPLE_OpenFailedError\u001b[0m                      Traceback (most recent call last)",
      "\u001b[0;32mfiona/_shim.pyx\u001b[0m in \u001b[0;36mfiona._shim.gdal_open_vector\u001b[0;34m()\u001b[0m\n",
      "\u001b[0;32mfiona/_err.pyx\u001b[0m in \u001b[0;36mfiona._err.exc_wrap_pointer\u001b[0;34m()\u001b[0m\n",
      "\u001b[0;31mCPLE_OpenFailedError\u001b[0m: /home/jovyan/shared/Islam/rss_general_classifier/rss_general_classifier/./data/train/classes/train_data_29192.shp: No such file or directory",
      "\nDuring handling of the above exception, another exception occurred:\n",
      "\u001b[0;31mDriverError\u001b[0m                               Traceback (most recent call last)",
      "\u001b[0;32m<ipython-input-96-71a1284fe502>\u001b[0m in \u001b[0;36m<module>\u001b[0;34m\u001b[0m\n\u001b[1;32m      1\u001b[0m \u001b[0mvector_file\u001b[0m\u001b[0;34m=\u001b[0m\u001b[0mos\u001b[0m\u001b[0;34m.\u001b[0m\u001b[0mpath\u001b[0m\u001b[0;34m.\u001b[0m\u001b[0mjoin\u001b[0m\u001b[0;34m(\u001b[0m\u001b[0mPrj_Path\u001b[0m\u001b[0;34m,\u001b[0m \u001b[0;34mr'./data/train/classes/train_data_29192.shp'\u001b[0m\u001b[0;34m)\u001b[0m\u001b[0;34m\u001b[0m\u001b[0;34m\u001b[0m\u001b[0m\n\u001b[0;32m----> 2\u001b[0;31m \u001b[0mdset\u001b[0m\u001b[0;34m.\u001b[0m\u001b[0mgeo\u001b[0m\u001b[0;34m.\u001b[0m\u001b[0mzonal_stats\u001b[0m\u001b[0;34m(\u001b[0m\u001b[0mvector_file\u001b[0m\u001b[0;34m)\u001b[0m\u001b[0;34m\u001b[0m\u001b[0;34m\u001b[0m\u001b[0m\n\u001b[0m",
      "\u001b[0;32m/opt/conda/lib/python3.7/site-packages/xgeo/raster.py\u001b[0m in \u001b[0;36mzonal_stats\u001b[0;34m(self, vector_file, geometry_name, value_name)\u001b[0m\n\u001b[1;32m    859\u001b[0m         \"\"\"\n\u001b[1;32m    860\u001b[0m         \u001b[0;31m# Get geopandas.GeoDataframe object for given vector file.\u001b[0m\u001b[0;34m\u001b[0m\u001b[0;34m\u001b[0m\u001b[0;34m\u001b[0m\u001b[0m\n\u001b[0;32m--> 861\u001b[0;31m         \u001b[0mvf\u001b[0m \u001b[0;34m=\u001b[0m \u001b[0mself\u001b[0m\u001b[0;34m.\u001b[0m\u001b[0m__get_geodataframe\u001b[0m\u001b[0;34m(\u001b[0m\u001b[0mvector_file\u001b[0m\u001b[0;34m=\u001b[0m\u001b[0mvector_file\u001b[0m\u001b[0;34m,\u001b[0m \u001b[0mgeometry_name\u001b[0m\u001b[0;34m=\u001b[0m\u001b[0mgeometry_name\u001b[0m\u001b[0;34m)\u001b[0m\u001b[0;34m\u001b[0m\u001b[0;34m\u001b[0m\u001b[0m\n\u001b[0m\u001b[1;32m    862\u001b[0m \u001b[0;34m\u001b[0m\u001b[0m\n\u001b[1;32m    863\u001b[0m         \u001b[0;31m# Add mask with rasterized regions in the given vector file.\u001b[0m\u001b[0;34m\u001b[0m\u001b[0;34m\u001b[0m\u001b[0;34m\u001b[0m\u001b[0m\n",
      "\u001b[0;32m/opt/conda/lib/python3.7/site-packages/xgeo/raster.py\u001b[0m in \u001b[0;36m__get_geodataframe\u001b[0;34m(self, vector_file, geometry_name)\u001b[0m\n\u001b[1;32m    712\u001b[0m \u001b[0;34m\u001b[0m\u001b[0m\n\u001b[1;32m    713\u001b[0m         \u001b[0;32mif\u001b[0m \u001b[0misinstance\u001b[0m\u001b[0;34m(\u001b[0m\u001b[0mvector_file\u001b[0m\u001b[0;34m,\u001b[0m \u001b[0mstr\u001b[0m\u001b[0;34m)\u001b[0m\u001b[0;34m:\u001b[0m\u001b[0;34m\u001b[0m\u001b[0;34m\u001b[0m\u001b[0m\n\u001b[0;32m--> 714\u001b[0;31m             \u001b[0mvf\u001b[0m \u001b[0;34m=\u001b[0m \u001b[0mgeopandas\u001b[0m\u001b[0;34m.\u001b[0m\u001b[0mread_file\u001b[0m\u001b[0;34m(\u001b[0m\u001b[0mvector_file\u001b[0m\u001b[0;34m)\u001b[0m\u001b[0;34m\u001b[0m\u001b[0;34m\u001b[0m\u001b[0m\n\u001b[0m\u001b[1;32m    715\u001b[0m         \u001b[0;32melse\u001b[0m\u001b[0;34m:\u001b[0m\u001b[0;34m\u001b[0m\u001b[0;34m\u001b[0m\u001b[0m\n\u001b[1;32m    716\u001b[0m             \u001b[0mvf\u001b[0m \u001b[0;34m=\u001b[0m \u001b[0mvector_file\u001b[0m\u001b[0;34m\u001b[0m\u001b[0;34m\u001b[0m\u001b[0m\n",
      "\u001b[0;32m/opt/conda/lib/python3.7/site-packages/geopandas/io/file.py\u001b[0m in \u001b[0;36mread_file\u001b[0;34m(filename, bbox, **kwargs)\u001b[0m\n\u001b[1;32m     75\u001b[0m \u001b[0;34m\u001b[0m\u001b[0m\n\u001b[1;32m     76\u001b[0m     \u001b[0;32mwith\u001b[0m \u001b[0mfiona_env\u001b[0m\u001b[0;34m(\u001b[0m\u001b[0;34m)\u001b[0m\u001b[0;34m:\u001b[0m\u001b[0;34m\u001b[0m\u001b[0;34m\u001b[0m\u001b[0m\n\u001b[0;32m---> 77\u001b[0;31m         \u001b[0;32mwith\u001b[0m \u001b[0mreader\u001b[0m\u001b[0;34m(\u001b[0m\u001b[0mpath_or_bytes\u001b[0m\u001b[0;34m,\u001b[0m \u001b[0;34m**\u001b[0m\u001b[0mkwargs\u001b[0m\u001b[0;34m)\u001b[0m \u001b[0;32mas\u001b[0m \u001b[0mfeatures\u001b[0m\u001b[0;34m:\u001b[0m\u001b[0;34m\u001b[0m\u001b[0;34m\u001b[0m\u001b[0m\n\u001b[0m\u001b[1;32m     78\u001b[0m \u001b[0;34m\u001b[0m\u001b[0m\n\u001b[1;32m     79\u001b[0m             \u001b[0;31m# In a future Fiona release the crs attribute of features will\u001b[0m\u001b[0;34m\u001b[0m\u001b[0;34m\u001b[0m\u001b[0;34m\u001b[0m\u001b[0m\n",
      "\u001b[0;32m/opt/conda/lib/python3.7/site-packages/fiona/env.py\u001b[0m in \u001b[0;36mwrapper\u001b[0;34m(*args, **kwargs)\u001b[0m\n\u001b[1;32m    395\u001b[0m     \u001b[0;32mdef\u001b[0m \u001b[0mwrapper\u001b[0m\u001b[0;34m(\u001b[0m\u001b[0;34m*\u001b[0m\u001b[0margs\u001b[0m\u001b[0;34m,\u001b[0m \u001b[0;34m**\u001b[0m\u001b[0mkwargs\u001b[0m\u001b[0;34m)\u001b[0m\u001b[0;34m:\u001b[0m\u001b[0;34m\u001b[0m\u001b[0;34m\u001b[0m\u001b[0m\n\u001b[1;32m    396\u001b[0m         \u001b[0;32mif\u001b[0m \u001b[0mlocal\u001b[0m\u001b[0;34m.\u001b[0m\u001b[0m_env\u001b[0m\u001b[0;34m:\u001b[0m\u001b[0;34m\u001b[0m\u001b[0;34m\u001b[0m\u001b[0m\n\u001b[0;32m--> 397\u001b[0;31m             \u001b[0;32mreturn\u001b[0m \u001b[0mf\u001b[0m\u001b[0;34m(\u001b[0m\u001b[0;34m*\u001b[0m\u001b[0margs\u001b[0m\u001b[0;34m,\u001b[0m \u001b[0;34m**\u001b[0m\u001b[0mkwargs\u001b[0m\u001b[0;34m)\u001b[0m\u001b[0;34m\u001b[0m\u001b[0;34m\u001b[0m\u001b[0m\n\u001b[0m\u001b[1;32m    398\u001b[0m         \u001b[0;32melse\u001b[0m\u001b[0;34m:\u001b[0m\u001b[0;34m\u001b[0m\u001b[0;34m\u001b[0m\u001b[0m\n\u001b[1;32m    399\u001b[0m             \u001b[0;32mif\u001b[0m \u001b[0misinstance\u001b[0m\u001b[0;34m(\u001b[0m\u001b[0margs\u001b[0m\u001b[0;34m[\u001b[0m\u001b[0;36m0\u001b[0m\u001b[0;34m]\u001b[0m\u001b[0;34m,\u001b[0m \u001b[0mstr\u001b[0m\u001b[0;34m)\u001b[0m\u001b[0;34m:\u001b[0m\u001b[0;34m\u001b[0m\u001b[0;34m\u001b[0m\u001b[0m\n",
      "\u001b[0;32m/opt/conda/lib/python3.7/site-packages/fiona/__init__.py\u001b[0m in \u001b[0;36mopen\u001b[0;34m(fp, mode, driver, schema, crs, encoding, layer, vfs, enabled_drivers, crs_wkt, **kwargs)\u001b[0m\n\u001b[1;32m    251\u001b[0m         \u001b[0;32mif\u001b[0m \u001b[0mmode\u001b[0m \u001b[0;32min\u001b[0m \u001b[0;34m(\u001b[0m\u001b[0;34m'a'\u001b[0m\u001b[0;34m,\u001b[0m \u001b[0;34m'r'\u001b[0m\u001b[0;34m)\u001b[0m\u001b[0;34m:\u001b[0m\u001b[0;34m\u001b[0m\u001b[0;34m\u001b[0m\u001b[0m\n\u001b[1;32m    252\u001b[0m             c = Collection(path, mode, driver=driver, encoding=encoding,\n\u001b[0;32m--> 253\u001b[0;31m                            layer=layer, enabled_drivers=enabled_drivers, **kwargs)\n\u001b[0m\u001b[1;32m    254\u001b[0m         \u001b[0;32melif\u001b[0m \u001b[0mmode\u001b[0m \u001b[0;34m==\u001b[0m \u001b[0;34m'w'\u001b[0m\u001b[0;34m:\u001b[0m\u001b[0;34m\u001b[0m\u001b[0;34m\u001b[0m\u001b[0m\n\u001b[1;32m    255\u001b[0m             \u001b[0;32mif\u001b[0m \u001b[0mschema\u001b[0m\u001b[0;34m:\u001b[0m\u001b[0;34m\u001b[0m\u001b[0;34m\u001b[0m\u001b[0m\n",
      "\u001b[0;32m/opt/conda/lib/python3.7/site-packages/fiona/collection.py\u001b[0m in \u001b[0;36m__init__\u001b[0;34m(self, path, mode, driver, schema, crs, encoding, layer, vsi, archive, enabled_drivers, crs_wkt, ignore_fields, ignore_geometry, **kwargs)\u001b[0m\n\u001b[1;32m    157\u001b[0m             \u001b[0;32mif\u001b[0m \u001b[0mself\u001b[0m\u001b[0;34m.\u001b[0m\u001b[0mmode\u001b[0m \u001b[0;34m==\u001b[0m \u001b[0;34m'r'\u001b[0m\u001b[0;34m:\u001b[0m\u001b[0;34m\u001b[0m\u001b[0;34m\u001b[0m\u001b[0m\n\u001b[1;32m    158\u001b[0m                 \u001b[0mself\u001b[0m\u001b[0;34m.\u001b[0m\u001b[0msession\u001b[0m \u001b[0;34m=\u001b[0m \u001b[0mSession\u001b[0m\u001b[0;34m(\u001b[0m\u001b[0;34m)\u001b[0m\u001b[0;34m\u001b[0m\u001b[0;34m\u001b[0m\u001b[0m\n\u001b[0;32m--> 159\u001b[0;31m                 \u001b[0mself\u001b[0m\u001b[0;34m.\u001b[0m\u001b[0msession\u001b[0m\u001b[0;34m.\u001b[0m\u001b[0mstart\u001b[0m\u001b[0;34m(\u001b[0m\u001b[0mself\u001b[0m\u001b[0;34m,\u001b[0m \u001b[0;34m**\u001b[0m\u001b[0mkwargs\u001b[0m\u001b[0;34m)\u001b[0m\u001b[0;34m\u001b[0m\u001b[0;34m\u001b[0m\u001b[0m\n\u001b[0m\u001b[1;32m    160\u001b[0m             \u001b[0;32melif\u001b[0m \u001b[0mself\u001b[0m\u001b[0;34m.\u001b[0m\u001b[0mmode\u001b[0m \u001b[0;32min\u001b[0m \u001b[0;34m(\u001b[0m\u001b[0;34m'a'\u001b[0m\u001b[0;34m,\u001b[0m \u001b[0;34m'w'\u001b[0m\u001b[0;34m)\u001b[0m\u001b[0;34m:\u001b[0m\u001b[0;34m\u001b[0m\u001b[0;34m\u001b[0m\u001b[0m\n\u001b[1;32m    161\u001b[0m                 \u001b[0mself\u001b[0m\u001b[0;34m.\u001b[0m\u001b[0msession\u001b[0m \u001b[0;34m=\u001b[0m \u001b[0mWritingSession\u001b[0m\u001b[0;34m(\u001b[0m\u001b[0;34m)\u001b[0m\u001b[0;34m\u001b[0m\u001b[0;34m\u001b[0m\u001b[0m\n",
      "\u001b[0;32mfiona/ogrext.pyx\u001b[0m in \u001b[0;36mfiona.ogrext.Session.start\u001b[0;34m()\u001b[0m\n",
      "\u001b[0;32mfiona/_shim.pyx\u001b[0m in \u001b[0;36mfiona._shim.gdal_open_vector\u001b[0;34m()\u001b[0m\n",
      "\u001b[0;31mDriverError\u001b[0m: /home/jovyan/shared/Islam/rss_general_classifier/rss_general_classifier/./data/train/classes/train_data_29192.shp: No such file or directory"
     ]
    }
   ],
   "source": [
    "vector_file=os.path.join(Prj_Path, r'./data/train/classes/train_data_29192.shp')\n",
    "dset.geo.zonal_stats(vector_file)"
   ]
  },
  {
   "cell_type": "code",
   "execution_count": 18,
   "metadata": {},
   "outputs": [
    {
     "name": "stdout",
     "output_type": "stream",
     "text": [
      "/home/jovyan/shared/Islam/./rss_general_classifier/rss_general_classifier\n"
     ]
    },
    {
     "data": {
      "text/plain": [
       "<matplotlib.image.AxesImage at 0x7fbc7c96a320>"
      ]
     },
     "execution_count": 18,
     "metadata": {},
     "output_type": "execute_result"
    },
    {
     "data": {
      "image/png": "[encoded data removed]",
      "text/plain": [
       "<Figure size 432x288 with 1 Axes>"
      ]
     },
     "metadata": {
      "needs_background": "light"
     },
     "output_type": "display_data"
    }
   ],
   "source": [
    "print(Prj_Path)\n",
    "\n",
    "image = plt.imread(output_fname)\n",
    "plt.imshow(image)"
   ]
  },
  {
   "cell_type": "code",
   "execution_count": 19,
   "metadata": {},
   "outputs": [
    {
     "name": "stderr",
     "output_type": "stream",
     "text": [
      "/opt/conda/lib/python3.7/site-packages/numpy/core/_methods.py:36: RuntimeWarning: overflow encountered in reduce\n",
      "  return umr_sum(a, axis, dtype, out, keepdims, initial)\n"
     ]
    }
   ],
   "source": [
    "verification_labels, predicted_labels = classic_classifier(classifier_names[0], raster_data_path, train_data_path, validation_data_path, output_fname)"
   ]
  },
  {
   "cell_type": "code",
   "execution_count": 20,
   "metadata": {},
   "outputs": [
    {
     "name": "stdout",
     "output_type": "stream",
     "text": [
      "/home/jovyan/shared/Islam/./rss_general_classifier/rss_general_classifier/./data/image/crop_p224r63_all_bands_29192_train_01_svm.tif\n",
      "01\n"
     ]
    }
   ],
   "source": [
    "i = 1\n",
    "output_image = output_fname[:-4] + '_' + str('%02d' % i) + '_' + classifier_names[i] +  output_fname[-4:] \n",
    "print(output_image)\n",
    "print('%02d' % i)"
   ]
  },
  {
   "cell_type": "code",
   "execution_count": 21,
   "metadata": {},
   "outputs": [
    {
     "name": "stdout",
     "output_type": "stream",
     "text": [
      "Classifier Method:random-forest \n",
      "\n"
     ]
    },
    {
     "name": "stderr",
     "output_type": "stream",
     "text": [
      "/opt/conda/lib/python3.7/site-packages/numpy/core/_methods.py:36: RuntimeWarning: overflow encountered in reduce\n",
      "  return umr_sum(a, axis, dtype, out, keepdims, initial)\n"
     ]
    },
    {
     "name": "stdout",
     "output_type": "stream",
     "text": [
      "Confussion matrix:\n",
      " [[ 4641     0     0]\n",
      " [    0 10330    63]\n",
      " [    0     6 14292]]\n",
      "Classification report:\n",
      "               precision    recall  f1-score   support\n",
      "\n",
      "         1.0       1.00      1.00      1.00      4641\n",
      "         2.0       1.00      0.99      1.00     10393\n",
      "         3.0       1.00      1.00      1.00     14298\n",
      "\n",
      "   micro avg       1.00      1.00      1.00     29332\n",
      "   macro avg       1.00      1.00      1.00     29332\n",
      "weighted avg       1.00      1.00      1.00     29332\n",
      "\n",
      "Classification accuracy:  0.9976476203463793\n",
      "Classifier Method:svm \n",
      "\n"
     ]
    },
    {
     "name": "stderr",
     "output_type": "stream",
     "text": [
      "/opt/conda/lib/python3.7/site-packages/sklearn/svm/base.py:196: FutureWarning: The default value of gamma will change from 'auto' to 'scale' in version 0.22 to account better for unscaled features. Set gamma explicitly to 'auto' or 'scale' to avoid this warning.\n",
      "  \"avoid this warning.\", FutureWarning)\n"
     ]
    },
    {
     "name": "stdout",
     "output_type": "stream",
     "text": [
      "Confussion matrix:\n",
      " [[ 4614    27     0]\n",
      " [    0 10390     3]\n",
      " [    0   316 13982]]\n",
      "Classification report:\n",
      "               precision    recall  f1-score   support\n",
      "\n",
      "         1.0       1.00      0.99      1.00      4641\n",
      "         2.0       0.97      1.00      0.98     10393\n",
      "         3.0       1.00      0.98      0.99     14298\n",
      "\n",
      "   micro avg       0.99      0.99      0.99     29332\n",
      "   macro avg       0.99      0.99      0.99     29332\n",
      "weighted avg       0.99      0.99      0.99     29332\n",
      "\n",
      "Classification accuracy:  0.9882040092731488\n",
      "Classifier Method:cart \n",
      "\n"
     ]
    },
    {
     "ename": "KeyError",
     "evalue": "'cart'",
     "output_type": "error",
     "traceback": [
      "\u001b[0;31m---------------------------------------------------------------------------\u001b[0m",
      "\u001b[0;31mKeyError\u001b[0m                                  Traceback (most recent call last)",
      "\u001b[0;32m<ipython-input-21-58ddf6a44ad7>\u001b[0m in \u001b[0;36m<module>\u001b[0;34m\u001b[0m\n\u001b[1;32m      2\u001b[0m     \u001b[0mprint\u001b[0m\u001b[0;34m(\u001b[0m\u001b[0;34m'Classifier Method:'\u001b[0m \u001b[0;34m+\u001b[0m \u001b[0mclassifier_names\u001b[0m\u001b[0;34m[\u001b[0m\u001b[0mi\u001b[0m\u001b[0;34m]\u001b[0m\u001b[0;34m,\u001b[0m \u001b[0;34m'\\n'\u001b[0m\u001b[0;34m)\u001b[0m\u001b[0;34m\u001b[0m\u001b[0;34m\u001b[0m\u001b[0m\n\u001b[1;32m      3\u001b[0m     \u001b[0moutput_image\u001b[0m \u001b[0;34m=\u001b[0m \u001b[0moutput_fname\u001b[0m\u001b[0;34m[\u001b[0m\u001b[0;34m:\u001b[0m\u001b[0;34m-\u001b[0m\u001b[0;36m4\u001b[0m\u001b[0;34m]\u001b[0m \u001b[0;34m+\u001b[0m \u001b[0;34m'_'\u001b[0m \u001b[0;34m+\u001b[0m \u001b[0mstr\u001b[0m\u001b[0;34m(\u001b[0m\u001b[0;34m'%02d'\u001b[0m \u001b[0;34m%\u001b[0m \u001b[0mi\u001b[0m\u001b[0;34m)\u001b[0m \u001b[0;34m+\u001b[0m \u001b[0;34m'_'\u001b[0m \u001b[0;34m+\u001b[0m \u001b[0mclassifier_names\u001b[0m\u001b[0;34m[\u001b[0m\u001b[0mi\u001b[0m\u001b[0;34m]\u001b[0m \u001b[0;34m+\u001b[0m  \u001b[0moutput_fname\u001b[0m\u001b[0;34m[\u001b[0m\u001b[0;34m-\u001b[0m\u001b[0;36m4\u001b[0m\u001b[0;34m:\u001b[0m\u001b[0;34m]\u001b[0m\u001b[0;34m\u001b[0m\u001b[0;34m\u001b[0m\u001b[0m\n\u001b[0;32m----> 4\u001b[0;31m     \u001b[0mverification_labels\u001b[0m\u001b[0;34m,\u001b[0m \u001b[0mpredicted_labels\u001b[0m \u001b[0;34m=\u001b[0m \u001b[0mclassic_classifier\u001b[0m\u001b[0;34m(\u001b[0m\u001b[0mclassifier_names\u001b[0m\u001b[0;34m[\u001b[0m\u001b[0mi\u001b[0m\u001b[0;34m]\u001b[0m\u001b[0;34m,\u001b[0m \u001b[0mraster_data_path\u001b[0m\u001b[0;34m,\u001b[0m \u001b[0mtrain_data_path\u001b[0m\u001b[0;34m,\u001b[0m \u001b[0mvalidation_data_path\u001b[0m\u001b[0;34m,\u001b[0m \u001b[0moutput_image\u001b[0m\u001b[0;34m)\u001b[0m\u001b[0;34m\u001b[0m\u001b[0;34m\u001b[0m\u001b[0m\n\u001b[0m\u001b[1;32m      5\u001b[0m \u001b[0;34m\u001b[0m\u001b[0m\n\u001b[1;32m      6\u001b[0m     print(\"Confussion matrix:\\n\", str(\n",
      "\u001b[0;32m<ipython-input-4-1423fb099ae2>\u001b[0m in \u001b[0;36mclassic_classifier\u001b[0;34m(method, raster_data_path, train_data_path, validation_data_path, output_fname)\u001b[0m\n\u001b[1;32m    217\u001b[0m     }\n\u001b[1;32m    218\u001b[0m \u001b[0;34m\u001b[0m\u001b[0m\n\u001b[0;32m--> 219\u001b[0;31m     \u001b[0mclassifier\u001b[0m \u001b[0;34m=\u001b[0m \u001b[0mCLASSIFIERS\u001b[0m\u001b[0;34m[\u001b[0m\u001b[0mmethod\u001b[0m\u001b[0;34m]\u001b[0m\u001b[0;34m\u001b[0m\u001b[0;34m\u001b[0m\u001b[0m\n\u001b[0m\u001b[1;32m    220\u001b[0m     \u001b[0mlogger\u001b[0m\u001b[0;34m.\u001b[0m\u001b[0mdebug\u001b[0m\u001b[0;34m(\u001b[0m\u001b[0;34m\"Train the classifier: %s\"\u001b[0m\u001b[0;34m,\u001b[0m \u001b[0mstr\u001b[0m\u001b[0;34m(\u001b[0m\u001b[0mclassifier\u001b[0m\u001b[0;34m)\u001b[0m\u001b[0;34m)\u001b[0m\u001b[0;34m\u001b[0m\u001b[0;34m\u001b[0m\u001b[0m\n\u001b[1;32m    221\u001b[0m     \u001b[0mclassifier\u001b[0m\u001b[0;34m.\u001b[0m\u001b[0mfit\u001b[0m\u001b[0;34m(\u001b[0m\u001b[0mtraining_samples\u001b[0m\u001b[0;34m,\u001b[0m \u001b[0mtraining_labels\u001b[0m\u001b[0;34m)\u001b[0m\u001b[0;34m\u001b[0m\u001b[0;34m\u001b[0m\u001b[0m\n",
      "\u001b[0;31mKeyError\u001b[0m: 'cart'"
     ]
    }
   ],
   "source": [
    "for i in range(len(classifier_names)):\n",
    "    print('Classifier Method:' + classifier_names[i], '\\n')\n",
    "    output_image = output_fname[:-4] + '_' + str('%02d' % i) + '_' + classifier_names[i] +  output_fname[-4:] \n",
    "    verification_labels, predicted_labels = classic_classifier(classifier_names[i], raster_data_path, train_data_path, validation_data_path, output_image)\n",
    "\n",
    "    print(\"Confussion matrix:\\n\", str(\n",
    "                metrics.confusion_matrix(verification_labels, predicted_labels)))\n",
    "\n",
    "    print(\"Classification report:\\n\",\n",
    "                        metrics.classification_report(verification_labels, predicted_labels,\n",
    "                                                      ))\n",
    "    print(\"Classification accuracy: \",\n",
    "                metrics.accuracy_score(verification_labels, predicted_labels))"
   ]
  },
  {
   "cell_type": "code",
   "execution_count": null,
   "metadata": {},
   "outputs": [],
   "source": [
    "from joblib import Parallel, delayed\n",
    "import multiprocessing\n",
    "     \n",
    "# what are your inputs, and what operation do you want to \n",
    "# perform on each input. For example...\n",
    "inputs = range(10) \n",
    "def processInput(i):\n",
    "    print('Classifier Method:' + classifier_names[i], '\\n')\n",
    "    verification_labels, predicted_labels = classic_classifier(classifier_names[i], raster_data_path, train_data_path, validation_data_path, output_fname)\n",
    "    return i * i, verification_labels, predicted_labels\n",
    " \n",
    "num_cores = multiprocessing.cpu_count()\n",
    "     \n",
    "results = Parallel(n_jobs=4)(delayed(processInput, print('Classifier Method: ' + classifier_names[i], '\\n'))(i) for i in range(len(classifier_names)))\n",
    "#print(num_cores,results)"
   ]
  },
  {
   "cell_type": "code",
   "execution_count": null,
   "metadata": {},
   "outputs": [],
   "source": [
    "1"
   ]
  },
  {
   "cell_type": "code",
   "execution_count": null,
   "metadata": {},
   "outputs": [],
   "source": [
    "cm = metrics.confusion_matrix(verification_labels, predicted_labels)"
   ]
  },
  {
   "cell_type": "code",
   "execution_count": null,
   "metadata": {},
   "outputs": [],
   "source": [
    "import sys\n",
    "import pandas as pd \n",
    "\n",
    "path = 'pretty'\n",
    "pretty_path = os.path.abspath(os.path.join(os.getcwd(), path))\n",
    "print(pretty_path)\n",
    "\n",
    "if pretty_path not in sys.path:\n",
    "    sys.path.append(pretty_path)\n",
    "    \n",
    "from pretty.confusion_matrix_pretty_print import pretty_plot_confusion_matrix, plot_confusion_matrix_from_data\n",
    "\n",
    "#get pandas dataframe\n",
    "df_cm = pd.DataFrame(cm ) #, index=range(1,7), columns=range(1,7))\n",
    "#colormap: see this and choose your more dear\n",
    "cmap = 'PuRd'\n",
    "pretty_plot_confusion_matrix(df_cm, cmap=cmap)"
   ]
  },
  {
   "cell_type": "code",
   "execution_count": null,
   "metadata": {},
   "outputs": [],
   "source": [
    "print(\"Classification report:\\n%s\" %\n",
    "      metrics.classification_report(verification_labels, predicted_labels))"
   ]
  },
  {
   "cell_type": "code",
   "execution_count": null,
   "metadata": {},
   "outputs": [],
   "source": [
    "method = 'random-forest'\n",
    "try:\n",
    "    raster_dataset = gdal.Open(raster_data_path, gdal.GA_ReadOnly)\n",
    "except RuntimeError as e:\n",
    "    report_and_exit(str(e))\n",
    "\n",
    "geo_transform = raster_dataset.GetGeoTransform()\n",
    "proj = raster_dataset.GetProjectionRef()\n",
    "bands_data = []\n",
    "for b in range(1, raster_dataset.RasterCount+1):\n",
    "    band = raster_dataset.GetRasterBand(b)\n",
    "    bands_data.append(band.ReadAsArray())\n",
    "\n",
    "bands_data = np.dstack(bands_data)\n",
    "rows, cols, n_bands = bands_data.shape\n",
    "# A sample is a vector with all the bands data. Each pixel (independent of its position) is a\n",
    "# sample.\n",
    "n_samples = rows*cols\n",
    "\n",
    "logger.debug(\"Process the training data\")\n",
    "try:\n",
    "    files = [f for f in os.listdir(train_data_path) if f.endswith('.shp')]\n",
    "    classes = [f.split('.')[0] for f in files]\n",
    "    shapefiles = [os.path.join(train_data_path, f) for f in files if f.endswith('.shp')]\n",
    "except OSError.FileNotFoundError as e:\n",
    "    report_and_exit(str(e))\n",
    "\n",
    "labeled_pixels = vectors_to_raster(shapefiles, rows, cols, geo_transform, proj)\n",
    "is_train = np.nonzero(labeled_pixels)\n",
    "training_labels = labeled_pixels[is_train]\n",
    "training_samples = bands_data[is_train]\n",
    "\n",
    "flat_pixels = bands_data.reshape((n_samples, n_bands))\n",
    "\n",
    "#\n",
    "# Perform classification\n",
    "#\n",
    "CLASSIFIERS = {\n",
    "    # http://scikit-learn.org/dev/modules/generated/sklearn.ensemble.RandomForestClassifier.html\n",
    "    'random-forest': RandomForestClassifier(n_jobs=4, n_estimators=10, class_weight='balanced'),\n",
    "    # http://scikit-learn.org/stable/modules/generated/sklearn.svm.SVC.html\n",
    "    'svm': SVC(class_weight='balanced'),\n",
    "    'cart': DecisionTreeClassifier(random_state=0)  \n",
    "}\n",
    "\n",
    "classifier = CLASSIFIERS[method]\n",
    "logger.debug(\"Train the classifier: %s\", str(classifier))\n",
    "classifier.fit(training_samples, training_labels)\n",
    "\n",
    "logger.debug(\"Classifing...\")\n",
    "result = classifier.predict(flat_pixels)\n",
    "\n",
    "# Reshape the result: split the labeled pixels into rows to create an image\n",
    "classification = result.reshape((rows, cols))\n",
    "write_geotiff(output_fname, classification, geo_transform, proj)\n",
    "logger.info(\"Classification created: %s\", output_fname)\n",
    "\n",
    "#\n",
    "# Validate the results\n",
    "#\n",
    "if validation_data_path:\n",
    "    logger.debug(\"Process the verification (testing) data\")\n",
    "    try:\n",
    "        shapefiles = [os.path.join(validation_data_path, \"%s.shp\" % c) for c in classes]\n",
    "    except OSError.FileNotFoundError as e:\n",
    "        report_and_exit(str(e))\n",
    "\n",
    "    verification_pixels = vectors_to_raster(shapefiles, rows, cols, geo_transform, proj)\n",
    "    for_verification = np.nonzero(verification_pixels)\n",
    "    verification_labels = verification_pixels[for_verification]\n",
    "    predicted_labels = classification[for_verification]\n",
    "\n",
    "    logger.info(\"Confussion matrix:\\n%s\", str(\n",
    "        metrics.confusion_matrix(verification_labels, predicted_labels)))\n",
    "    target_names = ['Class %s' % s for s in classes]\n",
    "    logger.info(\"Classification report:\\n%s\",\n",
    "                metrics.classification_report(verification_labels, predicted_labels,\n",
    "                                              target_names=target_names))\n",
    "    logger.info(\"Classification accuracy: %f\",\n",
    "                metrics.accuracy_score(verification_labels, predicted_labels))"
   ]
  },
  {
   "cell_type": "code",
   "execution_count": null,
   "metadata": {},
   "outputs": [],
   "source": [
    "cm_2 = metrics.confusion_matrix(verification_labels, predicted_labels)\n",
    "#get pandas dataframe\n",
    "df_cm_2 = pd.DataFrame(cm_2 ) #, index=range(1,7), columns=range(1,7))\n",
    "#colormap: see this and choose your more dear\n",
    "cmap = 'PuRd'\n",
    "pretty_plot_confusion_matrix(df_cm_2, cmap=cmap)"
   ]
  },
  {
   "cell_type": "code",
   "execution_count": null,
   "metadata": {},
   "outputs": [],
   "source": [
    "method = 'cart'\n",
    "try:\n",
    "    raster_dataset = gdal.Open(raster_data_path, gdal.GA_ReadOnly)\n",
    "except RuntimeError as e:\n",
    "    report_and_exit(str(e))\n",
    "\n",
    "geo_transform = raster_dataset.GetGeoTransform()\n",
    "proj = raster_dataset.GetProjectionRef()\n",
    "bands_data = []\n",
    "for b in range(1, raster_dataset.RasterCount+1):\n",
    "    band = raster_dataset.GetRasterBand(b)\n",
    "    bands_data.append(band.ReadAsArray())\n",
    "\n",
    "bands_data = np.dstack(bands_data)\n",
    "rows, cols, n_bands = bands_data.shape\n",
    "# A sample is a vector with all the bands data. Each pixel (independent of its position) is a\n",
    "# sample.\n",
    "n_samples = rows*cols\n",
    "\n",
    "logger.debug(\"Process the training data\")\n",
    "try:\n",
    "    files = [f for f in os.listdir(train_data_path) if f.endswith('.shp')]\n",
    "    classes = [f.split('.')[0] for f in files]\n",
    "    shapefiles = [os.path.join(train_data_path, f) for f in files if f.endswith('.shp')]\n",
    "except OSError.FileNotFoundError as e:\n",
    "    report_and_exit(str(e))\n",
    "\n",
    "labeled_pixels = vectors_to_raster(shapefiles, rows, cols, geo_transform, proj)\n",
    "is_train = np.nonzero(labeled_pixels)\n",
    "training_labels = labeled_pixels[is_train]\n",
    "training_samples = bands_data[is_train]\n",
    "\n",
    "flat_pixels = bands_data.reshape((n_samples, n_bands))\n",
    "\n",
    "#\n",
    "# Perform classification\n",
    "#\n",
    "CLASSIFIERS = {\n",
    "    # http://scikit-learn.org/dev/modules/generated/sklearn.ensemble.RandomForestClassifier.html\n",
    "    'random-forest': RandomForestClassifier(n_jobs=4, n_estimators=10, class_weight='balanced'),\n",
    "    # http://scikit-learn.org/stable/modules/generated/sklearn.svm.SVC.html\n",
    "    'svm': SVC(class_weight='balanced'),\n",
    "    'cart': DecisionTreeClassifier(random_state=0)  \n",
    "}\n",
    "\n",
    "classifier = CLASSIFIERS[method]\n",
    "logger.debug(\"Train the classifier: %s\", str(classifier))\n",
    "classifier.fit(training_samples, training_labels)\n",
    "\n",
    "logger.debug(\"Classifing...\")\n",
    "result = classifier.predict(flat_pixels)\n",
    "\n",
    "# Reshape the result: split the labeled pixels into rows to create an image\n",
    "classification = result.reshape((rows, cols))\n",
    "write_geotiff(output_fname, classification, geo_transform, proj)\n",
    "logger.info(\"Classification created: %s\", output_fname)\n",
    "\n",
    "#\n",
    "# Validate the results\n",
    "#\n",
    "if validation_data_path:\n",
    "    logger.debug(\"Process the verification (testing) data\")\n",
    "    try:\n",
    "        shapefiles = [os.path.join(validation_data_path, \"%s.shp\" % c) for c in classes]\n",
    "    except OSError.FileNotFoundError as e:\n",
    "        report_and_exit(str(e))\n",
    "\n",
    "    verification_pixels = vectors_to_raster(shapefiles, rows, cols, geo_transform, proj)\n",
    "    for_verification = np.nonzero(verification_pixels)\n",
    "    verification_labels = verification_pixels[for_verification]\n",
    "    predicted_labels = classification[for_verification]\n",
    "\n",
    "    logger.info(\"Confussion matrix:\\n%s\", str(\n",
    "        metrics.confusion_matrix(verification_labels, predicted_labels)))\n",
    "    target_names = ['Class %s' % s for s in classes]\n",
    "    logger.info(\"Classification report:\\n%s\",\n",
    "                metrics.classification_report(verification_labels, predicted_labels,\n",
    "                                              target_names=target_names))\n",
    "    logger.info(\"Classification accuracy: %f\",\n",
    "                metrics.accuracy_score(verification_labels, predicted_labels))\n",
    "    \n",
    "    \n",
    "cm_3 = metrics.confusion_matrix(verification_labels, predicted_labels)\n",
    "#get pandas dataframe\n",
    "df_cm_3 = pd.DataFrame(cm_3 ) #, index=range(1,7), columns=range(1,7))\n",
    "#colormap: see this and choose your more dear\n",
    "cmap = 'PuRd'\n",
    "pretty_plot_confusion_matrix(df_cm_3, cmap=cmap)"
   ]
  },
  {
   "cell_type": "code",
   "execution_count": null,
   "metadata": {},
   "outputs": [],
   "source": [
    "shp_path =  os.path.join(Prj_Path, r'.\\data\\train\\train_data_29192.shx')\n",
    "\n"
   ]
  },
  {
   "cell_type": "code",
   "execution_count": null,
   "metadata": {},
   "outputs": [],
   "source": [
    "def get_unique_values(filter_field, in_shapefile):\n",
    "    \"\"\" Return unique values of filter from source shapefile.\n",
    "    \"\"\"\n",
    "    sql = 'SELECT DISTINCT \"{}\" FROM {}'.format(\n",
    "        filter_field, in_shapefile)\n",
    "    layer = gdal.Open(in_shapefile).ExecuteSQL(sql)\n",
    "    values = []\n",
    "    # Unfortunately, you have to loop\n",
    "    # over every feature to get the values. \n",
    "    # This seems common in dealing w/ Shapefiles\n",
    "    for feature in layer:\n",
    "        values.append(feature.GetField(0))\n",
    "    return values"
   ]
  },
  {
   "cell_type": "code",
   "execution_count": null,
   "metadata": {},
   "outputs": [],
   "source": [
    "get_unique_values(1,shp_path)"
   ]
  },
  {
   "cell_type": "code",
   "execution_count": null,
   "metadata": {},
   "outputs": [],
   "source": [
    "layer = gdal.Open(shp_path)"
   ]
  },
  {
   "cell_type": "code",
   "execution_count": null,
   "metadata": {},
   "outputs": [],
   "source": []
  },
  {
   "cell_type": "code",
   "execution_count": null,
   "metadata": {},
   "outputs": [],
   "source": [
    "# https://scikit-learn.org/stable/auto_examples/classification/plot_classifier_comparison.html#sphx-glr-auto-examples-classification-plot-classifier-comparison-py\n",
    "import numpy as np\n",
    "import matplotlib.pyplot as plt\n",
    "from matplotlib.colors import ListedColormap\n",
    "from sklearn.model_selection import train_test_split\n",
    "from sklearn.preprocessing import StandardScaler\n",
    "from sklearn.datasets import make_moons, make_circles, make_classification\n",
    "from sklearn.neural_network import MLPClassifier\n",
    "from sklearn.neighbors import KNeighborsClassifier\n",
    "from sklearn.svm import SVC\n",
    "from sklearn.gaussian_process import GaussianProcessClassifier\n",
    "from sklearn.gaussian_process.kernels import RBF\n",
    "from sklearn.tree import DecisionTreeClassifier\n",
    "from sklearn.ensemble import RandomForestClassifier, AdaBoostClassifier\n",
    "from sklearn.naive_bayes import GaussianNB\n",
    "from sklearn.discriminant_analysis import QuadraticDiscriminantAnalysis\n",
    "\n",
    "h = .02  # step size in the mesh\n",
    "\n",
    "names = [\"Nearest Neighbors\", \"Linear SVM\", \"RBF SVM\", \"Gaussian Process\",\n",
    "         \"Decision Tree\", \"Random Forest\", \"Neural Net\", \"AdaBoost\",\n",
    "         \"Naive Bayes\", \"QDA\"]"
   ]
  },
  {
   "cell_type": "markdown",
   "metadata": {},
   "source": [
    "## Dimensionality reduction and classification on Hyperspectral Image Using PCA in Python"
   ]
  },
  {
   "cell_type": "code",
   "execution_count": null,
   "metadata": {},
   "outputs": [],
   "source": []
  },
  {
   "cell_type": "markdown",
   "metadata": {},
   "source": [
    "![](http://10.0.0.130/media/attachments/2/5/1/9/5af5b723f6ccf18180832145cfb7a133dec6ad3124ffea43fbeceae15709/annotation-2019-05-17-120800.png)"
   ]
  }
 ],
 "metadata": {
  "kernelspec": {
   "display_name": "Python 3",
   "language": "python",
   "name": "python3"
  },
  "language_info": {
   "codemirror_mode": {
    "name": "ipython",
    "version": 3
   },
   "file_extension": ".py",
   "mimetype": "text/x-python",
   "name": "python",
   "nbconvert_exporter": "python",
   "pygments_lexer": "ipython3",
   "version": "3.7.1"
  }
 },
 "nbformat": 4,
 "nbformat_minor": 2
}
